{
 "cells": [
  {
   "cell_type": "markdown",
   "source": [
    "# Pretraining Techniques.\n",
    "\n",
    "This is a python file to track some of the pretraining techniques that will be utilized\n",
    "with the supertransformer projects.\n",
    "\n",
    "\n",
    "## Vanilla/Language Comprehension\n",
    "\n",
    "Basic vanella pretraining, consisting of roBERTa pretraining techniques, are a core\n",
    "process. These include\n",
    "\n",
    "Text corruption:\n",
    "* Text masking. Mask a token\n",
    "* Text deletion. Randomly delete tokens. Leave room for fixing\n",
    "* Text infilling: Delete sections and replace them with a mask\n",
    "\n",
    "This is performed on all relevant model sections (command/document)\n",
    "\n",
    "## Memory Pretraining\n",
    "\n",
    "**Declarative Modification**:\n",
    "\n",
    "declare new word rules as you go along. \"it now means new, while new now means it\"\n"
   ],
   "metadata": {
    "collapsed": false,
    "pycharm": {
     "name": "#%% md\n"
    }
   }
  },
  {
   "cell_type": "code",
   "execution_count": null,
   "outputs": [],
   "source": [],
   "metadata": {
    "collapsed": false,
    "pycharm": {
     "name": "#%%"
    }
   }
  }
 ],
 "metadata": {
  "kernelspec": {
   "display_name": "Python 3",
   "language": "python",
   "name": "python3"
  },
  "language_info": {
   "codemirror_mode": {
    "name": "ipython",
    "version": 2
   },
   "file_extension": ".py",
   "mimetype": "text/x-python",
   "name": "python",
   "nbconvert_exporter": "python",
   "pygments_lexer": "ipython2",
   "version": "2.7.6"
  }
 },
 "nbformat": 4,
 "nbformat_minor": 0
}